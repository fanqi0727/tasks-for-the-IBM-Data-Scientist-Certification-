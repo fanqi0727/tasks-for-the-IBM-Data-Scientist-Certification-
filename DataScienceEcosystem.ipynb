{
 "cells": [
  {
   "cell_type": "markdown",
   "id": "6945f76b",
   "metadata": {},
   "source": [
    "# Data Science Tools and Ecosystem"
   ]
  },
  {
   "cell_type": "markdown",
   "id": "84283a98",
   "metadata": {},
   "source": [
    "## Author: Fanqi Meng"
   ]
  },
  {
   "cell_type": "markdown",
   "id": "7fcf2e80",
   "metadata": {},
   "source": [
    "In this notebook, Data Science Tools and Ecosystem are summarized."
   ]
  },
  {
   "cell_type": "markdown",
   "id": "9339ebcd",
   "metadata": {},
   "source": [
    "**Objectives:**"
   ]
  },
  {
   "cell_type": "markdown",
   "id": "9396e4bc",
   "metadata": {},
   "source": [
    "\n",
    "- Explain key libraries used in Data Science.\n",
    "- Demonstrate data visualization techniques.\n",
    "- Discuss machine learning algorithms.\n",
    "- Provide real-world data science examples."
   ]
  },
  {
   "cell_type": "markdown",
   "id": "149e0ad2",
   "metadata": {},
   "source": [
    "Some of the popular languages that Data Scientists use are:"
   ]
  },
  {
   "cell_type": "markdown",
   "id": "e724f262",
   "metadata": {},
   "source": [
    "Item 1:Python"
   ]
  },
  {
   "cell_type": "markdown",
   "id": "2b646e33",
   "metadata": {},
   "source": [
    "Item 2: R "
   ]
  },
  {
   "cell_type": "markdown",
   "id": "e8830837",
   "metadata": {},
   "source": [
    "Item 3:Julia"
   ]
  },
  {
   "cell_type": "markdown",
   "id": "4a1be89f",
   "metadata": {},
   "source": [
    "Some of the commonly used libraries used by Data Scientists include:"
   ]
  },
  {
   "cell_type": "markdown",
   "id": "e1859dcc",
   "metadata": {},
   "source": [
    "1.NumPy\n",
    "2.Pandas\n",
    "3.Matplotlib"
   ]
  },
  {
   "cell_type": "markdown",
   "id": "78d9f4ca",
   "metadata": {},
   "source": [
    " Data Science Tools:"
   ]
  },
  {
   "cell_type": "markdown",
   "id": "5f8349d7",
   "metadata": {},
   "source": [
    "1.Jupyter Notebook\n",
    "2.RStudio\n",
    "3.VSCode with Python/Jupyter"
   ]
  },
  {
   "cell_type": "markdown",
   "id": "1eabb2c5",
   "metadata": {},
   "source": [
    "### Below are a few examples of evaluating arithmetic expressions in Python"
   ]
  },
  {
   "cell_type": "code",
   "execution_count": 1,
   "id": "102ebef9",
   "metadata": {},
   "outputs": [
    {
     "data": {
      "text/plain": [
       "17"
      ]
     },
     "execution_count": 1,
     "metadata": {},
     "output_type": "execute_result"
    }
   ],
   "source": [
    "(3*4)+5   #This a simple arithmetic expression to mutiply then add integers"
   ]
  },
  {
   "cell_type": "code",
   "execution_count": 3,
   "id": "e53172f8",
   "metadata": {},
   "outputs": [
    {
     "data": {
      "text/plain": [
       "3.3333333333333335"
      ]
     },
     "execution_count": 3,
     "metadata": {},
     "output_type": "execute_result"
    }
   ],
   "source": [
    "200/60 #This will convert 200 minutes to hours by diving by 60"
   ]
  },
  {
   "cell_type": "code",
   "execution_count": 2,
   "id": "63ce4814",
   "metadata": {},
   "outputs": [],
   "source": []
  },
  {
   "cell_type": "code",
   "execution_count": null,
   "id": "4e57576a",
   "metadata": {},
   "outputs": [],
   "source": []
  }
 ],
 "metadata": {
  "kernelspec": {
   "display_name": "Python 3 (ipykernel)",
   "language": "python",
   "name": "python3"
  },
  "language_info": {
   "codemirror_mode": {
    "name": "ipython",
    "version": 3
   },
   "file_extension": ".py",
   "mimetype": "text/x-python",
   "name": "python",
   "nbconvert_exporter": "python",
   "pygments_lexer": "ipython3",
   "version": "3.9.13"
  }
 },
 "nbformat": 4,
 "nbformat_minor": 5
}
